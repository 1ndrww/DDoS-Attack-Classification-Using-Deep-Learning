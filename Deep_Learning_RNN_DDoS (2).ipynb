{
  "nbformat": 4,
  "nbformat_minor": 0,
  "metadata": {
    "colab": {
      "name": "Deep_Learning_RNN_DDoS.ipynb",
      "provenance": [],
      "collapsed_sections": []
    },
    "kernelspec": {
      "name": "python3",
      "display_name": "Python 3"
    },
    "language_info": {
      "name": "python"
    }
  },
  "cells": [
    {
      "cell_type": "markdown",
      "metadata": {
        "id": "Ow73q3y0k0ab"
      },
      "source": [
        "**Download Dataset**"
      ]
    },
    {
      "cell_type": "code",
      "metadata": {
        "colab": {
          "base_uri": "https://localhost:8080/"
        },
        "id": "FTHxdpmwkQIv",
        "outputId": "71fda813-4029-47a4-9792-a9243bbab4ea"
      },
      "source": [
        "!gdown https://drive.google.com/uc?id=1OTS726FHnYMqPg6gaz2Ga-WvvhnLv6v1"
      ],
      "execution_count": 23,
      "outputs": [
        {
          "output_type": "stream",
          "text": [
            "Downloading...\n",
            "From: https://drive.google.com/uc?id=1OTS726FHnYMqPg6gaz2Ga-WvvhnLv6v1\n",
            "To: /content/ddos_01_12_prep_training.csv\n",
            "15.5MB [00:00, 30.0MB/s]\n"
          ],
          "name": "stdout"
        }
      ]
    },
    {
      "cell_type": "markdown",
      "metadata": {
        "id": "lGiNL2FAk4zr"
      },
      "source": [
        "**Import Packages**"
      ]
    },
    {
      "cell_type": "code",
      "metadata": {
        "id": "lQPPLxU1kTLg"
      },
      "source": [
        "import numpy as np\n",
        "import pandas as pd\n",
        "\n",
        "from sklearn.model_selection import train_test_split\n",
        "from sklearn.pipeline import Pipeline\n",
        "from sklearn.compose import ColumnTransformer\n",
        "from sklearn.preprocessing import Normalizer"
      ],
      "execution_count": 24,
      "outputs": []
    },
    {
      "cell_type": "markdown",
      "metadata": {
        "id": "AQVsDE6JlJhD"
      },
      "source": [
        "**Import Dataset**"
      ]
    },
    {
      "cell_type": "code",
      "metadata": {
        "colab": {
          "base_uri": "https://localhost:8080/",
          "height": 272
        },
        "id": "1ij4VnYmkTP4",
        "outputId": "c7dbc5de-be09-4c1d-b6a2-aa5b024b06ea"
      },
      "source": [
        "df = pd.read_csv(\"./ddos_01_12_prep_training.csv\")\n",
        "df.head()"
      ],
      "execution_count": 25,
      "outputs": [
        {
          "output_type": "execute_result",
          "data": {
            "text/html": [
              "<div>\n",
              "<style scoped>\n",
              "    .dataframe tbody tr th:only-of-type {\n",
              "        vertical-align: middle;\n",
              "    }\n",
              "\n",
              "    .dataframe tbody tr th {\n",
              "        vertical-align: top;\n",
              "    }\n",
              "\n",
              "    .dataframe thead th {\n",
              "        text-align: right;\n",
              "    }\n",
              "</style>\n",
              "<table border=\"1\" class=\"dataframe\">\n",
              "  <thead>\n",
              "    <tr style=\"text-align: right;\">\n",
              "      <th></th>\n",
              "      <th>Source Port</th>\n",
              "      <th>Destination Port</th>\n",
              "      <th>Protocol</th>\n",
              "      <th>Flow Duration</th>\n",
              "      <th>Total Fwd Packets</th>\n",
              "      <th>Total Backward Packets</th>\n",
              "      <th>Total Length of Fwd Packets</th>\n",
              "      <th>Total Length of Bwd Packets</th>\n",
              "      <th>Fwd Packet Length Max</th>\n",
              "      <th>Fwd Packet Length Min</th>\n",
              "      <th>Fwd Packet Length Mean</th>\n",
              "      <th>Fwd Packet Length Std</th>\n",
              "      <th>Bwd Packet Length Max</th>\n",
              "      <th>Bwd Packet Length Min</th>\n",
              "      <th>Bwd Packet Length Mean</th>\n",
              "      <th>Bwd Packet Length Std</th>\n",
              "      <th>Flow IAT Mean</th>\n",
              "      <th>Flow IAT Std</th>\n",
              "      <th>Flow IAT Max</th>\n",
              "      <th>Flow IAT Min</th>\n",
              "      <th>Fwd IAT Total</th>\n",
              "      <th>Fwd IAT Mean</th>\n",
              "      <th>Fwd IAT Std</th>\n",
              "      <th>Fwd IAT Max</th>\n",
              "      <th>Fwd IAT Min</th>\n",
              "      <th>Bwd IAT Total</th>\n",
              "      <th>Bwd IAT Mean</th>\n",
              "      <th>Bwd IAT Std</th>\n",
              "      <th>Bwd IAT Max</th>\n",
              "      <th>Bwd IAT Min</th>\n",
              "      <th>Fwd PSH Flags</th>\n",
              "      <th>Bwd PSH Flags</th>\n",
              "      <th>Fwd URG Flags</th>\n",
              "      <th>Bwd URG Flags</th>\n",
              "      <th>Fwd Header Length</th>\n",
              "      <th>Bwd Header Length</th>\n",
              "      <th>Fwd Packets/s</th>\n",
              "      <th>Bwd Packets/s</th>\n",
              "      <th>Min Packet Length</th>\n",
              "      <th>Max Packet Length</th>\n",
              "      <th>Packet Length Mean</th>\n",
              "      <th>Packet Length Std</th>\n",
              "      <th>Packet Length Variance</th>\n",
              "      <th>FIN Flag Count</th>\n",
              "      <th>SYN Flag Count</th>\n",
              "      <th>RST Flag Count</th>\n",
              "      <th>PSH Flag Count</th>\n",
              "      <th>ACK Flag Count</th>\n",
              "      <th>URG Flag Count</th>\n",
              "      <th>CWE Flag Count</th>\n",
              "      <th>ECE Flag Count</th>\n",
              "      <th>Down/Up Ratio</th>\n",
              "      <th>Average Packet Size</th>\n",
              "      <th>Avg Fwd Segment Size</th>\n",
              "      <th>Avg Bwd Segment Size</th>\n",
              "      <th>Fwd Header Length.1</th>\n",
              "      <th>Fwd Avg Bytes/Bulk</th>\n",
              "      <th>Fwd Avg Packets/Bulk</th>\n",
              "      <th>Fwd Avg Bulk Rate</th>\n",
              "      <th>Bwd Avg Bytes/Bulk</th>\n",
              "      <th>Bwd Avg Packets/Bulk</th>\n",
              "      <th>Bwd Avg Bulk Rate</th>\n",
              "      <th>Subflow Fwd Packets</th>\n",
              "      <th>Subflow Fwd Bytes</th>\n",
              "      <th>Subflow Bwd Packets</th>\n",
              "      <th>Subflow Bwd Bytes</th>\n",
              "      <th>Init_Win_bytes_forward</th>\n",
              "      <th>Init_Win_bytes_backward</th>\n",
              "      <th>act_data_pkt_fwd</th>\n",
              "      <th>min_seg_size_forward</th>\n",
              "      <th>Active Mean</th>\n",
              "      <th>Active Std</th>\n",
              "      <th>Active Max</th>\n",
              "      <th>Active Min</th>\n",
              "      <th>Idle Mean</th>\n",
              "      <th>Idle Std</th>\n",
              "      <th>Idle Max</th>\n",
              "      <th>Idle Min</th>\n",
              "      <th>Inbound</th>\n",
              "      <th>label</th>\n",
              "    </tr>\n",
              "  </thead>\n",
              "  <tbody>\n",
              "    <tr>\n",
              "      <th>0</th>\n",
              "      <td>52380</td>\n",
              "      <td>443</td>\n",
              "      <td>6</td>\n",
              "      <td>1</td>\n",
              "      <td>2</td>\n",
              "      <td>0</td>\n",
              "      <td>0</td>\n",
              "      <td>0</td>\n",
              "      <td>0</td>\n",
              "      <td>0</td>\n",
              "      <td>0.000000</td>\n",
              "      <td>0.000000</td>\n",
              "      <td>0</td>\n",
              "      <td>0</td>\n",
              "      <td>0.0</td>\n",
              "      <td>0.0</td>\n",
              "      <td>1.000</td>\n",
              "      <td>0.000000e+00</td>\n",
              "      <td>1</td>\n",
              "      <td>1</td>\n",
              "      <td>1</td>\n",
              "      <td>1.000</td>\n",
              "      <td>0.000</td>\n",
              "      <td>1</td>\n",
              "      <td>1</td>\n",
              "      <td>0</td>\n",
              "      <td>0.0</td>\n",
              "      <td>0.0</td>\n",
              "      <td>0</td>\n",
              "      <td>0</td>\n",
              "      <td>0</td>\n",
              "      <td>0</td>\n",
              "      <td>0</td>\n",
              "      <td>0</td>\n",
              "      <td>40.0</td>\n",
              "      <td>0</td>\n",
              "      <td>2.000000e+06</td>\n",
              "      <td>0.000000</td>\n",
              "      <td>0</td>\n",
              "      <td>0</td>\n",
              "      <td>0.00</td>\n",
              "      <td>0.0</td>\n",
              "      <td>0.00</td>\n",
              "      <td>0</td>\n",
              "      <td>0</td>\n",
              "      <td>0</td>\n",
              "      <td>0</td>\n",
              "      <td>0</td>\n",
              "      <td>1</td>\n",
              "      <td>1</td>\n",
              "      <td>0</td>\n",
              "      <td>0</td>\n",
              "      <td>0.00</td>\n",
              "      <td>0.000000</td>\n",
              "      <td>0.0</td>\n",
              "      <td>40.0</td>\n",
              "      <td>0</td>\n",
              "      <td>0</td>\n",
              "      <td>0</td>\n",
              "      <td>0</td>\n",
              "      <td>0</td>\n",
              "      <td>0</td>\n",
              "      <td>2</td>\n",
              "      <td>0</td>\n",
              "      <td>0</td>\n",
              "      <td>0</td>\n",
              "      <td>256</td>\n",
              "      <td>-1</td>\n",
              "      <td>0</td>\n",
              "      <td>20</td>\n",
              "      <td>0.000000e+00</td>\n",
              "      <td>0.000000e+00</td>\n",
              "      <td>0</td>\n",
              "      <td>0</td>\n",
              "      <td>0.000000e+00</td>\n",
              "      <td>0.000000e+00</td>\n",
              "      <td>0</td>\n",
              "      <td>0</td>\n",
              "      <td>0</td>\n",
              "      <td>BENIGN</td>\n",
              "    </tr>\n",
              "    <tr>\n",
              "      <th>1</th>\n",
              "      <td>443</td>\n",
              "      <td>52380</td>\n",
              "      <td>6</td>\n",
              "      <td>2</td>\n",
              "      <td>3</td>\n",
              "      <td>0</td>\n",
              "      <td>62</td>\n",
              "      <td>0</td>\n",
              "      <td>31</td>\n",
              "      <td>0</td>\n",
              "      <td>20.666667</td>\n",
              "      <td>17.897858</td>\n",
              "      <td>0</td>\n",
              "      <td>0</td>\n",
              "      <td>0.0</td>\n",
              "      <td>0.0</td>\n",
              "      <td>1.000</td>\n",
              "      <td>0.000000e+00</td>\n",
              "      <td>1</td>\n",
              "      <td>1</td>\n",
              "      <td>2</td>\n",
              "      <td>1.000</td>\n",
              "      <td>0.000</td>\n",
              "      <td>1</td>\n",
              "      <td>1</td>\n",
              "      <td>0</td>\n",
              "      <td>0.0</td>\n",
              "      <td>0.0</td>\n",
              "      <td>0</td>\n",
              "      <td>0</td>\n",
              "      <td>1</td>\n",
              "      <td>0</td>\n",
              "      <td>0</td>\n",
              "      <td>0</td>\n",
              "      <td>60.0</td>\n",
              "      <td>0</td>\n",
              "      <td>1.500000e+06</td>\n",
              "      <td>0.000000</td>\n",
              "      <td>0</td>\n",
              "      <td>31</td>\n",
              "      <td>23.25</td>\n",
              "      <td>15.5</td>\n",
              "      <td>240.25</td>\n",
              "      <td>0</td>\n",
              "      <td>0</td>\n",
              "      <td>1</td>\n",
              "      <td>0</td>\n",
              "      <td>0</td>\n",
              "      <td>1</td>\n",
              "      <td>0</td>\n",
              "      <td>0</td>\n",
              "      <td>0</td>\n",
              "      <td>31.00</td>\n",
              "      <td>20.666667</td>\n",
              "      <td>0.0</td>\n",
              "      <td>60.0</td>\n",
              "      <td>0</td>\n",
              "      <td>0</td>\n",
              "      <td>0</td>\n",
              "      <td>0</td>\n",
              "      <td>0</td>\n",
              "      <td>0</td>\n",
              "      <td>3</td>\n",
              "      <td>62</td>\n",
              "      <td>0</td>\n",
              "      <td>0</td>\n",
              "      <td>245</td>\n",
              "      <td>-1</td>\n",
              "      <td>1</td>\n",
              "      <td>20</td>\n",
              "      <td>0.000000e+00</td>\n",
              "      <td>0.000000e+00</td>\n",
              "      <td>0</td>\n",
              "      <td>0</td>\n",
              "      <td>0.000000e+00</td>\n",
              "      <td>0.000000e+00</td>\n",
              "      <td>0</td>\n",
              "      <td>0</td>\n",
              "      <td>1</td>\n",
              "      <td>BENIGN</td>\n",
              "    </tr>\n",
              "    <tr>\n",
              "      <th>2</th>\n",
              "      <td>443</td>\n",
              "      <td>52380</td>\n",
              "      <td>6</td>\n",
              "      <td>218</td>\n",
              "      <td>1</td>\n",
              "      <td>2</td>\n",
              "      <td>0</td>\n",
              "      <td>0</td>\n",
              "      <td>0</td>\n",
              "      <td>0</td>\n",
              "      <td>0.000000</td>\n",
              "      <td>0.000000</td>\n",
              "      <td>0</td>\n",
              "      <td>0</td>\n",
              "      <td>0.0</td>\n",
              "      <td>0.0</td>\n",
              "      <td>109.000</td>\n",
              "      <td>8.626703e+01</td>\n",
              "      <td>170</td>\n",
              "      <td>48</td>\n",
              "      <td>0</td>\n",
              "      <td>0.000</td>\n",
              "      <td>0.000</td>\n",
              "      <td>0</td>\n",
              "      <td>0</td>\n",
              "      <td>48</td>\n",
              "      <td>48.0</td>\n",
              "      <td>0.0</td>\n",
              "      <td>48</td>\n",
              "      <td>48</td>\n",
              "      <td>0</td>\n",
              "      <td>0</td>\n",
              "      <td>0</td>\n",
              "      <td>0</td>\n",
              "      <td>20.0</td>\n",
              "      <td>40</td>\n",
              "      <td>4.587156e+03</td>\n",
              "      <td>9174.311927</td>\n",
              "      <td>0</td>\n",
              "      <td>0</td>\n",
              "      <td>0.00</td>\n",
              "      <td>0.0</td>\n",
              "      <td>0.00</td>\n",
              "      <td>0</td>\n",
              "      <td>0</td>\n",
              "      <td>0</td>\n",
              "      <td>0</td>\n",
              "      <td>0</td>\n",
              "      <td>1</td>\n",
              "      <td>1</td>\n",
              "      <td>0</td>\n",
              "      <td>2</td>\n",
              "      <td>0.00</td>\n",
              "      <td>0.000000</td>\n",
              "      <td>0.0</td>\n",
              "      <td>20.0</td>\n",
              "      <td>0</td>\n",
              "      <td>0</td>\n",
              "      <td>0</td>\n",
              "      <td>0</td>\n",
              "      <td>0</td>\n",
              "      <td>0</td>\n",
              "      <td>1</td>\n",
              "      <td>0</td>\n",
              "      <td>2</td>\n",
              "      <td>0</td>\n",
              "      <td>245</td>\n",
              "      <td>0</td>\n",
              "      <td>0</td>\n",
              "      <td>20</td>\n",
              "      <td>0.000000e+00</td>\n",
              "      <td>0.000000e+00</td>\n",
              "      <td>0</td>\n",
              "      <td>0</td>\n",
              "      <td>0.000000e+00</td>\n",
              "      <td>0.000000e+00</td>\n",
              "      <td>0</td>\n",
              "      <td>0</td>\n",
              "      <td>1</td>\n",
              "      <td>BENIGN</td>\n",
              "    </tr>\n",
              "    <tr>\n",
              "      <th>3</th>\n",
              "      <td>0</td>\n",
              "      <td>0</td>\n",
              "      <td>0</td>\n",
              "      <td>115366430</td>\n",
              "      <td>52</td>\n",
              "      <td>0</td>\n",
              "      <td>0</td>\n",
              "      <td>0</td>\n",
              "      <td>0</td>\n",
              "      <td>0</td>\n",
              "      <td>0.000000</td>\n",
              "      <td>0.000000</td>\n",
              "      <td>0</td>\n",
              "      <td>0</td>\n",
              "      <td>0.0</td>\n",
              "      <td>0.0</td>\n",
              "      <td>2262086.863</td>\n",
              "      <td>4.120832e+06</td>\n",
              "      <td>9988327</td>\n",
              "      <td>1</td>\n",
              "      <td>115366430</td>\n",
              "      <td>2262086.863</td>\n",
              "      <td>4120831.638</td>\n",
              "      <td>9988327</td>\n",
              "      <td>1</td>\n",
              "      <td>0</td>\n",
              "      <td>0.0</td>\n",
              "      <td>0.0</td>\n",
              "      <td>0</td>\n",
              "      <td>0</td>\n",
              "      <td>0</td>\n",
              "      <td>0</td>\n",
              "      <td>0</td>\n",
              "      <td>0</td>\n",
              "      <td>0.0</td>\n",
              "      <td>0</td>\n",
              "      <td>4.507377e-01</td>\n",
              "      <td>0.000000</td>\n",
              "      <td>0</td>\n",
              "      <td>0</td>\n",
              "      <td>0.00</td>\n",
              "      <td>0.0</td>\n",
              "      <td>0.00</td>\n",
              "      <td>0</td>\n",
              "      <td>0</td>\n",
              "      <td>0</td>\n",
              "      <td>0</td>\n",
              "      <td>0</td>\n",
              "      <td>0</td>\n",
              "      <td>0</td>\n",
              "      <td>0</td>\n",
              "      <td>0</td>\n",
              "      <td>0.00</td>\n",
              "      <td>0.000000</td>\n",
              "      <td>0.0</td>\n",
              "      <td>0.0</td>\n",
              "      <td>0</td>\n",
              "      <td>0</td>\n",
              "      <td>0</td>\n",
              "      <td>0</td>\n",
              "      <td>0</td>\n",
              "      <td>0</td>\n",
              "      <td>52</td>\n",
              "      <td>0</td>\n",
              "      <td>0</td>\n",
              "      <td>0</td>\n",
              "      <td>-1</td>\n",
              "      <td>-1</td>\n",
              "      <td>0</td>\n",
              "      <td>0</td>\n",
              "      <td>6.666667e+00</td>\n",
              "      <td>1.073087e+00</td>\n",
              "      <td>8</td>\n",
              "      <td>4</td>\n",
              "      <td>9.613862e+06</td>\n",
              "      <td>2.884856e+05</td>\n",
              "      <td>9988327</td>\n",
              "      <td>9110910</td>\n",
              "      <td>0</td>\n",
              "      <td>BENIGN</td>\n",
              "    </tr>\n",
              "    <tr>\n",
              "      <th>4</th>\n",
              "      <td>68</td>\n",
              "      <td>67</td>\n",
              "      <td>17</td>\n",
              "      <td>109157387</td>\n",
              "      <td>16</td>\n",
              "      <td>0</td>\n",
              "      <td>4800</td>\n",
              "      <td>0</td>\n",
              "      <td>300</td>\n",
              "      <td>300</td>\n",
              "      <td>300.000000</td>\n",
              "      <td>0.000000</td>\n",
              "      <td>0</td>\n",
              "      <td>0</td>\n",
              "      <td>0.0</td>\n",
              "      <td>0.0</td>\n",
              "      <td>7277159.133</td>\n",
              "      <td>4.248209e+06</td>\n",
              "      <td>14600796</td>\n",
              "      <td>2166672</td>\n",
              "      <td>109157387</td>\n",
              "      <td>7277159.133</td>\n",
              "      <td>4248209.222</td>\n",
              "      <td>14600796</td>\n",
              "      <td>2166672</td>\n",
              "      <td>0</td>\n",
              "      <td>0.0</td>\n",
              "      <td>0.0</td>\n",
              "      <td>0</td>\n",
              "      <td>0</td>\n",
              "      <td>0</td>\n",
              "      <td>0</td>\n",
              "      <td>0</td>\n",
              "      <td>0</td>\n",
              "      <td>404.0</td>\n",
              "      <td>0</td>\n",
              "      <td>1.465773e-01</td>\n",
              "      <td>0.000000</td>\n",
              "      <td>300</td>\n",
              "      <td>300</td>\n",
              "      <td>300.00</td>\n",
              "      <td>0.0</td>\n",
              "      <td>0.00</td>\n",
              "      <td>0</td>\n",
              "      <td>0</td>\n",
              "      <td>0</td>\n",
              "      <td>0</td>\n",
              "      <td>0</td>\n",
              "      <td>0</td>\n",
              "      <td>0</td>\n",
              "      <td>0</td>\n",
              "      <td>0</td>\n",
              "      <td>318.75</td>\n",
              "      <td>300.000000</td>\n",
              "      <td>0.0</td>\n",
              "      <td>404.0</td>\n",
              "      <td>0</td>\n",
              "      <td>0</td>\n",
              "      <td>0</td>\n",
              "      <td>0</td>\n",
              "      <td>0</td>\n",
              "      <td>0</td>\n",
              "      <td>16</td>\n",
              "      <td>4800</td>\n",
              "      <td>0</td>\n",
              "      <td>0</td>\n",
              "      <td>-1</td>\n",
              "      <td>-1</td>\n",
              "      <td>15</td>\n",
              "      <td>20</td>\n",
              "      <td>5.929966e+06</td>\n",
              "      <td>3.774939e+06</td>\n",
              "      <td>10054849</td>\n",
              "      <td>2647210</td>\n",
              "      <td>1.015194e+07</td>\n",
              "      <td>2.795046e+06</td>\n",
              "      <td>14600796</td>\n",
              "      <td>6304546</td>\n",
              "      <td>0</td>\n",
              "      <td>BENIGN</td>\n",
              "    </tr>\n",
              "  </tbody>\n",
              "</table>\n",
              "</div>"
            ],
            "text/plain": [
              "    Source Port   Destination Port   Protocol  ...   Idle Min   Inbound   label\n",
              "0         52380                443          6  ...          0         0  BENIGN\n",
              "1           443              52380          6  ...          0         1  BENIGN\n",
              "2           443              52380          6  ...          0         1  BENIGN\n",
              "3             0                  0          0  ...    9110910         0  BENIGN\n",
              "4            68                 67         17  ...    6304546         0  BENIGN\n",
              "\n",
              "[5 rows x 80 columns]"
            ]
          },
          "metadata": {
            "tags": []
          },
          "execution_count": 25
        }
      ]
    },
    {
      "cell_type": "markdown",
      "metadata": {
        "id": "0SC9F5ZZlbnH"
      },
      "source": [
        "**Encoding Label**"
      ]
    },
    {
      "cell_type": "code",
      "metadata": {
        "colab": {
          "base_uri": "https://localhost:8080/"
        },
        "id": "pJ2LUhG1kTTm",
        "outputId": "af8c84c0-17e9-4698-fd3b-50db56a6ba26"
      },
      "source": [
        "df = df.sample(n = 52318, replace = False, random_state= 32)\n",
        "df['label'] = df['label'].map({'BENIGN' : 0, 'DDOS' : 1})\n",
        "df.label.value_counts()"
      ],
      "execution_count": 26,
      "outputs": [
        {
          "output_type": "execute_result",
          "data": {
            "text/plain": [
              "1    26892\n",
              "0    25426\n",
              "Name: label, dtype: int64"
            ]
          },
          "metadata": {
            "tags": []
          },
          "execution_count": 26
        }
      ]
    },
    {
      "cell_type": "markdown",
      "metadata": {
        "id": "eprdkDXBlnBd"
      },
      "source": [
        "**Split Input & Output Feature**"
      ]
    },
    {
      "cell_type": "code",
      "metadata": {
        "colab": {
          "base_uri": "https://localhost:8080/"
        },
        "id": "XTJf5O5fkTXS",
        "outputId": "b984162e-71d0-48a2-e63c-8ad5d2051d9c"
      },
      "source": [
        "X = df.drop(columns=\"label\")\n",
        "y = df['label']\n",
        "X.shape"
      ],
      "execution_count": 27,
      "outputs": [
        {
          "output_type": "execute_result",
          "data": {
            "text/plain": [
              "(52318, 79)"
            ]
          },
          "metadata": {
            "tags": []
          },
          "execution_count": 27
        }
      ]
    },
    {
      "cell_type": "markdown",
      "metadata": {
        "id": "bjzBZ7Z0swYq"
      },
      "source": [
        "**Standard Scaler**"
      ]
    },
    {
      "cell_type": "code",
      "metadata": {
        "id": "bAK0x6XNsail"
      },
      "source": [
        "from sklearn import preprocessing\n",
        "from sklearn.preprocessing import LabelEncoder, StandardScaler\n",
        "scalar = StandardScaler(copy=False, with_mean=False, with_std=False)\n",
        "scalar.fit(X)\n",
        "X = scalar.transform(X)"
      ],
      "execution_count": 28,
      "outputs": []
    },
    {
      "cell_type": "markdown",
      "metadata": {
        "id": "cz9SKO5bmC04"
      },
      "source": [
        "**Feature Selection Function**"
      ]
    },
    {
      "cell_type": "code",
      "metadata": {
        "id": "G6klTI--kTaz"
      },
      "source": [
        "# def feature_selection_IG(n_feature, df) :\n",
        "#   list_select_attribute = []\n",
        "#   list_feature = [2,1,40,54,11,53,41,10,39,9,7,64,19,79,17,38,4,37,18,36,65,6,35,56,29,26,27,43,42,30,67,52,70,13,8,66,15,55,24,21,22,68,14,49,63,5,12,69,23,25,20,3,28,50,16,74,73,71,31,46,75,77,78,76,72,45,48,60,59,61,57,58,62,51,33,34,44,47,32]\n",
        "  \n",
        "#   for x in list_feature:\n",
        "#     list_select_attribute.append(x-1)\n",
        "\n",
        "#   feature_selection = list_select_attribute[0:n_feature]\n",
        "#   feature_selection\n",
        "#   df= df.iloc[: ,feature_selection]\n",
        "#   return df\n",
        "# X = feature_selection_IG(40,X)\n",
        "# X\n"
      ],
      "execution_count": 29,
      "outputs": []
    },
    {
      "cell_type": "markdown",
      "metadata": {
        "id": "3bBgxf03s7P8"
      },
      "source": [
        "**Feature Extraction PCA**"
      ]
    },
    {
      "cell_type": "code",
      "metadata": {
        "id": "5FpfInNFs3s3"
      },
      "source": [
        "# from sklearn.decomposition import PCA\n",
        "# import matplotlib.pyplot as plt\n",
        "# pca  = PCA(n_components = 40, whiten = True)\n",
        "# X = pca.fit_transform(X)\n",
        "# X.shape"
      ],
      "execution_count": 30,
      "outputs": []
    },
    {
      "cell_type": "markdown",
      "metadata": {
        "id": "4fJnspp2m2wb"
      },
      "source": [
        "**Custom Dataset RNN**"
      ]
    },
    {
      "cell_type": "code",
      "metadata": {
        "id": "NKEuFVslm1Ce"
      },
      "source": [
        "from numpy import array\n",
        "# split a univariate sequence into samples\n",
        "def split_sequence(sequence, n_steps):\n",
        "  X= list()\n",
        "  for i in range(len(sequence)):\n",
        "  # find the end of this pattern\n",
        "    end_ix = i + n_steps\n",
        "    # check if we are beyond the sequence\n",
        "    if end_ix > len(sequence)-1:\n",
        "       break\n",
        "    # gather input and output parts of the pattern\n",
        "    seq_x = sequence[i:end_ix]\n",
        "    X.append(seq_x)\n",
        "  return array(X)\n",
        "\n",
        "# define input sequence\n",
        "raw_seq = X\n",
        "# choose a number of time steps\n",
        "n_steps = 50\n",
        "# transform input from [samples, features] to [samples, timesteps, features]\n",
        "#X_ = X_.reshape((X_.shape[0], X_.shape[1], 79))\n",
        "# split into samples\n",
        "X_= split_sequence(raw_seq, n_steps)\n",
        "Y = y[n_steps-1:len(df)-1]"
      ],
      "execution_count": 31,
      "outputs": []
    },
    {
      "cell_type": "markdown",
      "metadata": {
        "id": "VRXxi_8vte70"
      },
      "source": [
        "**Split Dataset**"
      ]
    },
    {
      "cell_type": "code",
      "metadata": {
        "id": "LD4Esp0vpWt5"
      },
      "source": [
        "X_train, X_test, Y_train, Y_test = train_test_split(X_, Y ,test_size = 0.3,shuffle=False)"
      ],
      "execution_count": 32,
      "outputs": []
    },
    {
      "cell_type": "markdown",
      "metadata": {
        "id": "IRV_mWg9tk73"
      },
      "source": [
        "**Import Packages Tensorflow Keras**"
      ]
    },
    {
      "cell_type": "code",
      "metadata": {
        "id": "c1JxGzM5tplN"
      },
      "source": [
        "from tensorflow import keras\n",
        "from tensorflow.keras.models import Sequential, load_model\n",
        "from tensorflow.keras.layers import Dense, LSTM, GRU, SimpleRNN\n",
        "from tensorflow.keras.layers import Dropout\n",
        "from sklearn.model_selection import train_test_split\n",
        "from sklearn.preprocessing import LabelEncoder, StandardScaler\n",
        "from sklearn.metrics import confusion_matrix\n",
        "from tensorflow import keras\n",
        "from tensorflow.keras import layers\n",
        "from tensorflow.keras.layers import TimeDistributed\n",
        "from sklearn.metrics import (precision_score, recall_score,f1_score, accuracy_score,mean_squared_error,mean_absolute_error)\n",
        "from sklearn import metrics\n",
        "import seaborn as sns; sns.set()\n",
        "from keras.callbacks import EarlyStopping"
      ],
      "execution_count": 33,
      "outputs": []
    },
    {
      "cell_type": "markdown",
      "metadata": {
        "id": "M_99DZulttQA"
      },
      "source": [
        "**Early Stopping**"
      ]
    },
    {
      "cell_type": "code",
      "metadata": {
        "id": "t8o9cWomtvn_"
      },
      "source": [
        "early_stopping_monitor = EarlyStopping(patience=30)"
      ],
      "execution_count": 34,
      "outputs": []
    },
    {
      "cell_type": "markdown",
      "metadata": {
        "id": "KzyZDOsTuRqx"
      },
      "source": [
        "**Training Model**"
      ]
    },
    {
      "cell_type": "code",
      "metadata": {
        "id": "Dfb-pBBut3z5"
      },
      "source": [
        "def create_baseline():\n",
        "    model = Sequential()\n",
        "    model.add(SimpleRNN(128))\n",
        "    model.add(Dense(32))\n",
        "    model.add(Dropout(0.1))\n",
        "    model.add(Dense(16)) \n",
        "    model.add(Dropout(0.1))\n",
        "    model.add(Dense(8))\n",
        "    model.add(Dense(1, activation = 'sigmoid'))\n",
        "    model.compile(loss = 'binary_crossentropy', optimizer = 'adam', metrics = ['accuracy'])\n",
        "    \n",
        "    return model"
      ],
      "execution_count": 35,
      "outputs": []
    },
    {
      "cell_type": "code",
      "metadata": {
        "id": "69lcGqU_t3_O"
      },
      "source": [
        "model = create_baseline()"
      ],
      "execution_count": 36,
      "outputs": []
    },
    {
      "cell_type": "code",
      "metadata": {
        "colab": {
          "base_uri": "https://localhost:8080/"
        },
        "id": "U-cJTavcujq4",
        "outputId": "a94fff86-884d-4adc-c443-5b964ac9f7da"
      },
      "source": [
        "import time\n",
        "start_time = time.time()\n",
        "history = model.fit(X_train, Y_train, epochs = 50, callbacks = [early_stopping_monitor], batch_size =100, validation_split=0.2, verbose = 1)\n",
        "print(\"--- %s seconds ---\" % (time.time() - start_time))"
      ],
      "execution_count": 37,
      "outputs": [
        {
          "output_type": "stream",
          "text": [
            "Epoch 1/50\n",
            "293/293 [==============================] - 13s 39ms/step - loss: 0.3073 - accuracy: 0.8816 - val_loss: 0.2324 - val_accuracy: 0.9124\n",
            "Epoch 2/50\n",
            "293/293 [==============================] - 11s 38ms/step - loss: 0.2536 - accuracy: 0.9073 - val_loss: 0.2275 - val_accuracy: 0.9165\n",
            "Epoch 3/50\n",
            "293/293 [==============================] - 11s 39ms/step - loss: 0.2342 - accuracy: 0.9175 - val_loss: 0.2125 - val_accuracy: 0.9212\n",
            "Epoch 4/50\n",
            "293/293 [==============================] - 13s 46ms/step - loss: 0.2327 - accuracy: 0.9220 - val_loss: 0.2192 - val_accuracy: 0.9266\n",
            "Epoch 5/50\n",
            "293/293 [==============================] - 12s 39ms/step - loss: 0.2304 - accuracy: 0.9210 - val_loss: 0.2238 - val_accuracy: 0.9274\n",
            "Epoch 6/50\n",
            "293/293 [==============================] - 11s 39ms/step - loss: 0.2250 - accuracy: 0.9226 - val_loss: 0.2182 - val_accuracy: 0.9261\n",
            "Epoch 7/50\n",
            "293/293 [==============================] - 11s 39ms/step - loss: 0.2232 - accuracy: 0.9227 - val_loss: 0.2150 - val_accuracy: 0.9240\n",
            "Epoch 8/50\n",
            "293/293 [==============================] - 11s 39ms/step - loss: 0.2213 - accuracy: 0.9243 - val_loss: 0.2106 - val_accuracy: 0.9262\n",
            "Epoch 9/50\n",
            "293/293 [==============================] - 12s 39ms/step - loss: 0.2173 - accuracy: 0.9265 - val_loss: 0.2062 - val_accuracy: 0.9278\n",
            "Epoch 10/50\n",
            "293/293 [==============================] - 11s 39ms/step - loss: 0.2184 - accuracy: 0.9260 - val_loss: 0.2196 - val_accuracy: 0.9255\n",
            "Epoch 11/50\n",
            "293/293 [==============================] - 12s 39ms/step - loss: 0.2190 - accuracy: 0.9260 - val_loss: 0.2468 - val_accuracy: 0.9243\n",
            "Epoch 12/50\n",
            "293/293 [==============================] - 11s 39ms/step - loss: 0.2218 - accuracy: 0.9245 - val_loss: 0.2165 - val_accuracy: 0.9296\n",
            "Epoch 13/50\n",
            "293/293 [==============================] - 12s 39ms/step - loss: 0.2190 - accuracy: 0.9255 - val_loss: 0.2099 - val_accuracy: 0.9274\n",
            "Epoch 14/50\n",
            "293/293 [==============================] - 11s 39ms/step - loss: 0.2142 - accuracy: 0.9271 - val_loss: 0.2062 - val_accuracy: 0.9288\n",
            "Epoch 15/50\n",
            "293/293 [==============================] - 12s 39ms/step - loss: 0.2202 - accuracy: 0.9259 - val_loss: 0.2131 - val_accuracy: 0.9257\n",
            "Epoch 16/50\n",
            "293/293 [==============================] - 12s 39ms/step - loss: 0.2223 - accuracy: 0.9253 - val_loss: 0.2136 - val_accuracy: 0.9285\n",
            "Epoch 17/50\n",
            "293/293 [==============================] - 11s 39ms/step - loss: 0.2208 - accuracy: 0.9250 - val_loss: 0.2168 - val_accuracy: 0.9255\n",
            "Epoch 18/50\n",
            "293/293 [==============================] - 12s 39ms/step - loss: 0.2186 - accuracy: 0.9252 - val_loss: 0.2146 - val_accuracy: 0.9268\n",
            "Epoch 19/50\n",
            "293/293 [==============================] - 12s 40ms/step - loss: 0.2180 - accuracy: 0.9253 - val_loss: 0.2117 - val_accuracy: 0.9273\n",
            "Epoch 20/50\n",
            "293/293 [==============================] - 12s 39ms/step - loss: 0.2137 - accuracy: 0.9267 - val_loss: 0.2107 - val_accuracy: 0.9287\n",
            "Epoch 21/50\n",
            "293/293 [==============================] - 11s 39ms/step - loss: 0.2165 - accuracy: 0.9266 - val_loss: 0.2091 - val_accuracy: 0.9278\n",
            "Epoch 22/50\n",
            "293/293 [==============================] - 12s 39ms/step - loss: 0.2154 - accuracy: 0.9265 - val_loss: 0.2160 - val_accuracy: 0.9281\n",
            "Epoch 23/50\n",
            "293/293 [==============================] - 12s 39ms/step - loss: 0.2138 - accuracy: 0.9264 - val_loss: 0.2076 - val_accuracy: 0.9284\n",
            "Epoch 24/50\n",
            "293/293 [==============================] - 11s 39ms/step - loss: 0.2105 - accuracy: 0.9270 - val_loss: 0.2069 - val_accuracy: 0.9288\n",
            "Epoch 25/50\n",
            "293/293 [==============================] - 12s 39ms/step - loss: 0.2111 - accuracy: 0.9278 - val_loss: 0.2072 - val_accuracy: 0.9291\n",
            "Epoch 26/50\n",
            "293/293 [==============================] - 11s 39ms/step - loss: 0.2114 - accuracy: 0.9283 - val_loss: 0.2098 - val_accuracy: 0.9281\n",
            "Epoch 27/50\n",
            "293/293 [==============================] - 11s 39ms/step - loss: 0.2119 - accuracy: 0.9280 - val_loss: 0.2081 - val_accuracy: 0.9291\n",
            "Epoch 28/50\n",
            "293/293 [==============================] - 12s 40ms/step - loss: 0.2129 - accuracy: 0.9275 - val_loss: 0.2176 - val_accuracy: 0.9280\n",
            "Epoch 29/50\n",
            "293/293 [==============================] - 12s 40ms/step - loss: 0.2136 - accuracy: 0.9273 - val_loss: 0.2171 - val_accuracy: 0.9285\n",
            "Epoch 30/50\n",
            "293/293 [==============================] - 12s 39ms/step - loss: 0.2136 - accuracy: 0.9277 - val_loss: 0.2078 - val_accuracy: 0.9300\n",
            "Epoch 31/50\n",
            "293/293 [==============================] - 12s 40ms/step - loss: 0.2124 - accuracy: 0.9286 - val_loss: 0.2120 - val_accuracy: 0.9285\n",
            "Epoch 32/50\n",
            "293/293 [==============================] - 12s 39ms/step - loss: 0.2111 - accuracy: 0.9292 - val_loss: 0.2084 - val_accuracy: 0.9289\n",
            "Epoch 33/50\n",
            "293/293 [==============================] - 12s 39ms/step - loss: 0.2108 - accuracy: 0.9293 - val_loss: 0.2149 - val_accuracy: 0.9306\n",
            "Epoch 34/50\n",
            "293/293 [==============================] - 12s 40ms/step - loss: 0.2112 - accuracy: 0.9282 - val_loss: 0.2062 - val_accuracy: 0.9281\n",
            "Epoch 35/50\n",
            "293/293 [==============================] - 11s 39ms/step - loss: 0.2093 - accuracy: 0.9296 - val_loss: 0.2162 - val_accuracy: 0.9291\n",
            "Epoch 36/50\n",
            "293/293 [==============================] - 12s 40ms/step - loss: 0.2121 - accuracy: 0.9293 - val_loss: 0.2161 - val_accuracy: 0.9302\n",
            "Epoch 37/50\n",
            "293/293 [==============================] - 12s 40ms/step - loss: 0.2137 - accuracy: 0.9277 - val_loss: 0.2135 - val_accuracy: 0.9278\n",
            "Epoch 38/50\n",
            "293/293 [==============================] - 12s 39ms/step - loss: 0.2120 - accuracy: 0.9289 - val_loss: 0.2098 - val_accuracy: 0.9303\n",
            "Epoch 39/50\n",
            "293/293 [==============================] - 12s 40ms/step - loss: 0.2111 - accuracy: 0.9289 - val_loss: 0.2173 - val_accuracy: 0.9284\n",
            "Epoch 40/50\n",
            "293/293 [==============================] - 12s 39ms/step - loss: 0.2097 - accuracy: 0.9289 - val_loss: 0.2073 - val_accuracy: 0.9287\n",
            "Epoch 41/50\n",
            "293/293 [==============================] - 12s 40ms/step - loss: 0.2141 - accuracy: 0.9285 - val_loss: 0.2085 - val_accuracy: 0.9295\n",
            "Epoch 42/50\n",
            "293/293 [==============================] - 12s 40ms/step - loss: 0.2121 - accuracy: 0.9295 - val_loss: 0.2097 - val_accuracy: 0.9285\n",
            "Epoch 43/50\n",
            "293/293 [==============================] - 12s 39ms/step - loss: 0.2103 - accuracy: 0.9301 - val_loss: 0.2026 - val_accuracy: 0.9310\n",
            "Epoch 44/50\n",
            "293/293 [==============================] - 11s 39ms/step - loss: 0.2123 - accuracy: 0.9298 - val_loss: 0.2072 - val_accuracy: 0.9307\n",
            "Epoch 45/50\n",
            "293/293 [==============================] - 12s 40ms/step - loss: 0.2122 - accuracy: 0.9287 - val_loss: 0.2105 - val_accuracy: 0.9311\n",
            "Epoch 46/50\n",
            "293/293 [==============================] - 12s 40ms/step - loss: 0.2122 - accuracy: 0.9288 - val_loss: 0.2073 - val_accuracy: 0.9307\n",
            "Epoch 47/50\n",
            "293/293 [==============================] - 12s 40ms/step - loss: 0.2098 - accuracy: 0.9293 - val_loss: 0.2099 - val_accuracy: 0.9314\n",
            "Epoch 48/50\n",
            "293/293 [==============================] - 12s 39ms/step - loss: 0.2115 - accuracy: 0.9290 - val_loss: 0.2024 - val_accuracy: 0.9283\n",
            "Epoch 49/50\n",
            "293/293 [==============================] - 11s 39ms/step - loss: 0.2088 - accuracy: 0.9281 - val_loss: 0.2038 - val_accuracy: 0.9311\n",
            "Epoch 50/50\n",
            "293/293 [==============================] - 12s 40ms/step - loss: 0.2106 - accuracy: 0.9294 - val_loss: 0.2131 - val_accuracy: 0.9300\n",
            "--- 623.2125878334045 seconds ---\n"
          ],
          "name": "stdout"
        }
      ]
    },
    {
      "cell_type": "markdown",
      "metadata": {
        "id": "xYgo7qKBwyS-"
      },
      "source": [
        "**Save Model**"
      ]
    },
    {
      "cell_type": "code",
      "metadata": {
        "colab": {
          "base_uri": "https://localhost:8080/"
        },
        "id": "gu5B63jEuuPk",
        "outputId": "8d2fc048-16ca-4510-a84e-fd1658f2fdeb"
      },
      "source": [
        "model.save('RNN')"
      ],
      "execution_count": 38,
      "outputs": [
        {
          "output_type": "stream",
          "text": [
            "INFO:tensorflow:Assets written to: RNN/assets\n"
          ],
          "name": "stdout"
        }
      ]
    },
    {
      "cell_type": "markdown",
      "metadata": {
        "id": "yH82niSfw5ZY"
      },
      "source": [
        "**Load Model**"
      ]
    },
    {
      "cell_type": "code",
      "metadata": {
        "id": "c0xrA2qAw3_6"
      },
      "source": [
        "from tensorflow import keras\n",
        "model = keras.models.load_model('RNN')"
      ],
      "execution_count": 39,
      "outputs": []
    },
    {
      "cell_type": "markdown",
      "metadata": {
        "id": "8kkv7_OSxDgy"
      },
      "source": [
        "**Predict Model**"
      ]
    },
    {
      "cell_type": "code",
      "metadata": {
        "colab": {
          "base_uri": "https://localhost:8080/",
          "height": 285
        },
        "id": "EAMne8YnxFxw",
        "outputId": "10616cd5-b840-4dcc-d547-55688f9da367"
      },
      "source": [
        "predict = model.predict(X_test, verbose=1)\n",
        "tp = 0\n",
        "tn = 0\n",
        "fp = 0\n",
        "fn = 0\n",
        "predictn = predict.flatten().round()\n",
        "predictn = predictn.tolist()\n",
        "Y_testn = Y_test.tolist()\n",
        "for i in range(len(Y_testn)):\n",
        "  if predictn[i]==1 and Y_testn[i]==1:\n",
        "    tp+=1\n",
        "  elif predictn[i]==0 and Y_testn[i]==0:\n",
        "    tn+=1\n",
        "  elif predictn[i]==0 and Y_testn[i]==1:\n",
        "    fp+=1\n",
        "  elif predictn[i]==1 and Y_testn[i]==0:\n",
        "    fn+=1\n",
        "\n",
        "to_heat_map =[[tp,fp],[fn,tn]]\n",
        "to_heat_map = pd.DataFrame(to_heat_map, index = [\"Attack\",\"Normal\"],columns = [\"Attack\",\"Normal\"])\n",
        "ax = sns.heatmap(to_heat_map,annot=True, fmt=\"d\")"
      ],
      "execution_count": 40,
      "outputs": [
        {
          "output_type": "stream",
          "text": [
            "491/491 [==============================] - 4s 7ms/step\n"
          ],
          "name": "stdout"
        },
        {
          "output_type": "display_data",
          "data": {
            "image/png": "[encoded data removed]",
            "text/plain": [
              "<Figure size 432x288 with 2 Axes>"
            ]
          },
          "metadata": {
            "tags": []
          }
        }
      ]
    },
    {
      "cell_type": "code",
      "metadata": {
        "colab": {
          "base_uri": "https://localhost:8080/"
        },
        "id": "63_rzw0txKU_",
        "outputId": "2d0ececd-52a9-4b46-c231-bd0c6df2e8ae"
      },
      "source": [
        "scores = model.evaluate(X_test, Y_test, verbose=0)\n",
        "print(\"%s: %.2f%%\" % (model.metrics_names[1], scores[1]*100))"
      ],
      "execution_count": 41,
      "outputs": [
        {
          "output_type": "stream",
          "text": [
            "accuracy: 92.68%\n"
          ],
          "name": "stdout"
        }
      ]
    },
    {
      "cell_type": "markdown",
      "metadata": {
        "id": "ncn9Hh3Rx833"
      },
      "source": [
        "**Testing Model**"
      ]
    },
    {
      "cell_type": "code",
      "metadata": {
        "id": "9pmA6jmbx73T"
      },
      "source": [
        "!gdown https://drive.google.com/uc?id=1Db7O9WB99VfS0_LFR2Gm9WSzuGhQasNH"
      ],
      "execution_count": null,
      "outputs": []
    },
    {
      "cell_type": "code",
      "metadata": {
        "id": "VAYKXncQx76z"
      },
      "source": [
        "!unzip './DATASET_TESTING.zip'"
      ],
      "execution_count": null,
      "outputs": []
    },
    {
      "cell_type": "markdown",
      "metadata": {
        "id": "hzIQtlneyNhm"
      },
      "source": [
        "**Import Testing Dataset**"
      ]
    },
    {
      "cell_type": "code",
      "metadata": {
        "id": "WltdCGxQx7-A"
      },
      "source": [
        "import pandas as pd\n",
        "df2 = pd.read_csv(\"./DATASET_TESTING/LDAP_TEST.csv\")\n",
        "df2.head()"
      ],
      "execution_count": null,
      "outputs": []
    },
    {
      "cell_type": "code",
      "metadata": {
        "id": "2dr-4L0DyTRs"
      },
      "source": [
        "df2['label'] = df2['label'].map({'BENIGN' : 0, 'DDOS' : 1})\n",
        "X2 = df2.drop(columns=\"label\")\n",
        "y2 = df2['label']\n"
      ],
      "execution_count": null,
      "outputs": []
    },
    {
      "cell_type": "markdown",
      "metadata": {
        "id": "ntnlSsESyz_V"
      },
      "source": [
        "**Standard Scaler**"
      ]
    },
    {
      "cell_type": "code",
      "metadata": {
        "id": "rmOhoA8MyyIU"
      },
      "source": [
        "scalar = StandardScaler(copy=False, with_mean=False, with_std=False)\n",
        "scalar.fit(X2)\n",
        "X2 = scalar.transform(X2)"
      ],
      "execution_count": null,
      "outputs": []
    },
    {
      "cell_type": "markdown",
      "metadata": {
        "id": "h_z5obhWya3f"
      },
      "source": [
        "**Feature Selection**"
      ]
    },
    {
      "cell_type": "code",
      "metadata": {
        "id": "oO_DNLC2ydy3"
      },
      "source": [
        "\n",
        "def feature_selection_IG(n_feature, df) :\n",
        "  list_select_attribute = []\n",
        "  list_feature = [2,1,40,54,11,53,41,10,39,9,7,64,19,79,17,38,4,37,18,36,65,6,35,56,29,26,27,43,42,30,67,52,70,13,8,66,15,55,24,21,22,68,14,49,63,5,12,69,23,25,20,3,28,50,16,74,73,71,31,46,75,77,78,76,72,45,48,60,59,61,57,58,62,51,33,34,44,47,32]\n",
        "  \n",
        "  for x in list_feature:\n",
        "    list_select_attribute.append(x-1)\n",
        "\n",
        "  feature_selection = list_select_attribute[0:n_feature]\n",
        "  feature_selection\n",
        "  df= df.iloc[: ,feature_selection]\n",
        "  return df\n",
        "X2_ = feature_selection_IG(40,X2)\n",
        "X2_\n"
      ],
      "execution_count": null,
      "outputs": []
    },
    {
      "cell_type": "markdown",
      "metadata": {
        "id": "-kMBm1yvzJeo"
      },
      "source": [
        "**Feature Extraction PCA**"
      ]
    },
    {
      "cell_type": "code",
      "metadata": {
        "id": "UWVkvGNYyxLT"
      },
      "source": [
        "from sklearn.decomposition import PCA\n",
        "import matplotlib.pyplot as plt\n",
        "pca  = PCA(n_components = 40, whiten = True)\n",
        "X2_ = pca.fit_transform(X2)\n",
        "X2_.shape"
      ],
      "execution_count": null,
      "outputs": []
    },
    {
      "cell_type": "markdown",
      "metadata": {
        "id": "QJj5wiCizZJ3"
      },
      "source": [
        "**Custom Dataset RNN**"
      ]
    },
    {
      "cell_type": "code",
      "metadata": {
        "id": "j2iRVCzezb0k"
      },
      "source": [
        "from numpy import array\n",
        "# split a univariate sequence into samples\n",
        "def split_sequence(sequence, n_steps):\n",
        "  X= list()\n",
        "  for i in range(len(sequence)):\n",
        "  # find the end of this pattern\n",
        "    end_ix = i + n_steps\n",
        "    # check if we are beyond the sequence\n",
        "    if end_ix > len(sequence)-1:\n",
        "       break\n",
        "    # gather input and output parts of the pattern\n",
        "    seq_x = sequence[i:end_ix]\n",
        "    X.append(seq_x)\n",
        "  return array(X)\n",
        "\n",
        "# define input sequence\n",
        "raw_seq = X2_\n",
        "# choose a number of time steps\n",
        "n_steps = 50\n",
        "# transform input from [samples, features] to [samples, timesteps, features]\n",
        "#X_ = X_.reshape((X_.shape[0], X_.shape[1], 79))\n",
        "# split into samples\n",
        "X_2= split_sequence(raw_seq, n_steps)\n",
        "Y2 = y2[n_steps-1:len(df2)-1]"
      ],
      "execution_count": null,
      "outputs": []
    },
    {
      "cell_type": "markdown",
      "metadata": {
        "id": "cL26TI-Y2-bX"
      },
      "source": [
        "**Testing Model**"
      ]
    },
    {
      "cell_type": "code",
      "metadata": {
        "id": "nk92U8C2zgCG"
      },
      "source": [
        "import time\n",
        "start_time = time.time()\n",
        "scores = model.evaluate(X_2, Y2, verbose=0)\n",
        "print(\"%s: %.2f%%\" % (model.metrics_names[1], scores[1]*100))\n",
        "print(\"--- %s seconds ---\" % (time.time() - start_time))"
      ],
      "execution_count": null,
      "outputs": []
    },
    {
      "cell_type": "code",
      "metadata": {
        "id": "nwnXY5zu2QA2"
      },
      "source": [
        ""
      ],
      "execution_count": null,
      "outputs": []
    }
  ]
}